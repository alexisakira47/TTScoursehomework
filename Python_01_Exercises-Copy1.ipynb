{
 "cells": [
  {
   "cell_type": "markdown",
   "id": "630e7a18",
   "metadata": {},
   "source": [
    "<b> Exercises for Python Module 1 </b>\n",
    "\n",
    "Make sure to comment all your code!"
   ]
  },
  {
   "cell_type": "code",
   "execution_count": null,
   "id": "0b41ab29",
   "metadata": {},
   "outputs": [],
   "source": []
  },
  {
   "cell_type": "markdown",
   "id": "27e339a6",
   "metadata": {},
   "source": [
    "Accept the user's first and last name and print them in reverse order with a space between them. \n",
    "\n",
    "Keyword hints: print function, input function, append, add, string"
   ]
  },
  {
   "cell_type": "code",
   "execution_count": 2,
   "id": "e697c647",
   "metadata": {},
   "outputs": [
    {
     "name": "stdout",
     "output_type": "stream",
     "text": [
      "alexis \n",
      "gigante\n",
      "gigante alexis \n"
     ]
    }
   ],
   "source": [
    "#accept the user's first name \n",
    "#accept the user's last name \n",
    "#print them + in reverse order \n",
    "#make sure there is a space between them \n",
    "\n",
    "first = input()\n",
    "last = input()\n",
    "print(last, first)"
   ]
  },
  {
   "cell_type": "markdown",
   "id": "b7db81b3",
   "metadata": {},
   "source": [
    "Ask the user \"What country are you from?\" then print the following statement: \"I have heard that [input] is a beautiful country!\""
   ]
  },
  {
   "cell_type": "code",
   "execution_count": 7,
   "id": "f6b2cc68",
   "metadata": {},
   "outputs": [
    {
     "name": "stdout",
     "output_type": "stream",
     "text": [
      "what country are you from?The Philippines\n",
      "I have heard that The Philippines Is a beautiful country! \n"
     ]
    }
   ],
   "source": [
    "#ask the user \"what country are you from?\"\n",
    "#print the statement \"I have heard that [input] is a beautiful country\"\n",
    "\n",
    "\n",
    "country = input (\"what country are you from?\")\n",
    "print(\"I have heard that \" +country+ \" Is a beautiful country! \")\n"
   ]
  },
  {
   "cell_type": "code",
   "execution_count": null,
   "id": "657fe99c",
   "metadata": {},
   "outputs": [],
   "source": [
    "Explain the output for:\n",
    "\n",
    "x = 36 / 4 * (3 +  2) * 4 + 2"
   ]
  },
  {
   "cell_type": "code",
   "execution_count": 9,
   "id": "8247422a",
   "metadata": {},
   "outputs": [
    {
     "name": "stdout",
     "output_type": "stream",
     "text": [
      "182.0\n"
     ]
    }
   ],
   "source": [
    "x = 36 / 4 * (3 +  2) * 4 + 2\n",
    "print(x)\n",
    "#its doing the math left to right (considering order of operations)"
   ]
  },
  {
   "cell_type": "markdown",
   "id": "7b77d65d",
   "metadata": {},
   "source": [
    "What is the output of the following code and what arithmetic operators is being used here? \n",
    "\n",
    "print(2%6)"
   ]
  },
  {
   "cell_type": "code",
   "execution_count": 10,
   "id": "a819b258",
   "metadata": {
    "scrolled": true
   },
   "outputs": [
    {
     "name": "stdout",
     "output_type": "stream",
     "text": [
      "2\n"
     ]
    }
   ],
   "source": [
    "print(2%6)\n",
    "\n",
    "#What arithmetic operators is being used here? \n",
    "#"
   ]
  },
  {
   "cell_type": "markdown",
   "id": "b2f2fe38",
   "metadata": {},
   "source": [
    "What is the output of the following code and what arithmetic operators are used here? \n",
    "\n",
    "print(2 * 3 ** 3 * 4)"
   ]
  },
  {
   "cell_type": "code",
   "execution_count": 11,
   "id": "5a218db8",
   "metadata": {},
   "outputs": [
    {
     "name": "stdout",
     "output_type": "stream",
     "text": [
      "216\n"
     ]
    }
   ],
   "source": [
    "#print output of code \n",
    "#multiplicatuon and exponention operartor being used \n",
    "print(2 * 3 ** 3 * 4)"
   ]
  },
  {
   "cell_type": "markdown",
   "id": "c7ccc477",
   "metadata": {},
   "source": [
    "Accept an integer (n) and compute the value of n+nn+nnn. For example, if n = 4, then n+nn+nnn should equal 492. \n",
    "\n",
    "Keyword hints: Hint(4+44+444)"
   ]
  },
  {
   "cell_type": "code",
   "execution_count": 22,
   "id": "34078483",
   "metadata": {},
   "outputs": [
    {
     "name": "stdout",
     "output_type": "stream",
     "text": [
      "user types in number4\n",
      "492\n"
     ]
    }
   ],
   "source": [
    "#accept an integer \n",
    "#n=input()\n",
    "\n",
    "#compute sum\n",
    "#x = int(n) + int(n) * int(n) + int(n) * int(n) *  int(n)\n",
    "#print(y)\n",
    "#print(n)\n",
    "\n",
    "\n",
    "#2nd soulution \n",
    "n = input(\"user types in number\")\n",
    "nn = n + n \n",
    "nnn= n + n + n\n",
    "#y = n + nn + nnn\n",
    "\n",
    "y = int(n) + int(nn) + int(nnn) \n",
    "print(y)"
   ]
  },
  {
   "cell_type": "markdown",
   "id": "cc9d29ed",
   "metadata": {},
   "source": [
    "What is an IDE?"
   ]
  },
  {
   "cell_type": "markdown",
   "id": "bfed86af",
   "metadata": {},
   "source": [
    "Intergrated development enviroment -a software that helps develop code "
   ]
  },
  {
   "cell_type": "markdown",
   "id": "f702b1de",
   "metadata": {},
   "source": [
    "What is a Text Editor?"
   ]
  },
  {
   "cell_type": "markdown",
   "id": "e302d66f",
   "metadata": {},
   "source": [
    "Allows you to edit documents with text "
   ]
  },
  {
   "cell_type": "markdown",
   "id": "bc31d150",
   "metadata": {},
   "source": [
    "What is  filepath?"
   ]
  },
  {
   "cell_type": "markdown",
   "id": "21954b0a",
   "metadata": {},
   "source": [
    "an address so the computer can know where to go "
   ]
  },
  {
   "cell_type": "markdown",
   "id": "1a8bf765",
   "metadata": {},
   "source": [
    "Describe Python as a programming language?"
   ]
  },
  {
   "cell_type": "markdown",
   "id": "e5df37a4",
   "metadata": {},
   "source": [
    "created to be easily taugh and read "
   ]
  },
  {
   "cell_type": "markdown",
   "id": "479cc46c",
   "metadata": {},
   "source": [
    "What is Jupyter Notebook, and how does it differ from other IDEs such as VSCode?"
   ]
  },
  {
   "cell_type": "markdown",
   "id": "b65545d9",
   "metadata": {},
   "source": [
    "Jupyter notebook is an IDE that can run python and different types of code \n",
    "what makes it diffrent from other types of code is it can allow code to be seperated by text"
   ]
  },
  {
   "cell_type": "markdown",
   "id": "8b78b231",
   "metadata": {},
   "source": [
    "What is the difference between a \"code\" cell (at the top of your notebook) and a \"markdown\" cell?"
   ]
  },
  {
   "cell_type": "markdown",
   "id": "c61ddad1",
   "metadata": {},
   "source": [
    "a code cell runs code and a markdown is just text "
   ]
  },
  {
   "cell_type": "markdown",
   "id": "d4fcc215",
   "metadata": {},
   "source": [
    "Describe each operator catagory: (Notebook 01_03)"
   ]
  },
  {
   "cell_type": "code",
   "execution_count": null,
   "id": "e342b817",
   "metadata": {},
   "outputs": [],
   "source": [
    "#arithmetic \n",
    "#bitwise \n",
    "#Assignment \n",
    "#boolean \n",
    "#membership\n",
    "#identity\n"
   ]
  },
  {
   "cell_type": "markdown",
   "id": "7d048f8c",
   "metadata": {},
   "source": [
    "Describe what the phrase \"everything is an object\" means in Python; what is an object?"
   ]
  },
  {
   "cell_type": "markdown",
   "id": "170c8270",
   "metadata": {},
   "source": [
    "a object is something that holds data and function \n"
   ]
  }
 ],
 "metadata": {
  "kernelspec": {
   "display_name": "Python 3 (ipykernel)",
   "language": "python",
   "name": "python3"
  },
  "language_info": {
   "codemirror_mode": {
    "name": "ipython",
    "version": 3
   },
   "file_extension": ".py",
   "mimetype": "text/x-python",
   "name": "python",
   "nbconvert_exporter": "python",
   "pygments_lexer": "ipython3",
   "version": "3.11.5"
  }
 },
 "nbformat": 4,
 "nbformat_minor": 5
}
